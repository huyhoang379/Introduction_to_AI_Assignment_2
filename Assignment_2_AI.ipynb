{
 "cells": [
  {
   "cell_type": "code",
   "execution_count": 10,
   "metadata": {
    "colab": {
     "base_uri": "https://localhost:8080/"
    },
    "executionInfo": {
     "elapsed": 3288,
     "status": "ok",
     "timestamp": 1731571151982,
     "user": {
      "displayName": "THỊNH VƯƠNG BÁ",
      "userId": "07238309429272368208"
     },
     "user_tz": -420
    },
    "id": "roUJfBcZv0wz",
    "outputId": "c70933a4-bab6-49ab-a82d-4bdec6e5493b"
   },
   "outputs": [
    {
     "name": "stdout",
     "output_type": "stream",
     "text": [
      "Requirement already satisfied: pygame in d:\\study app\\python312\\lib\\site-packages (2.6.1)\n"
     ]
    }
   ],
   "source": [
    "!pip install pygame"
   ]
  },
  {
   "cell_type": "code",
   "execution_count": null,
   "metadata": {
    "executionInfo": {
     "elapsed": 12,
     "status": "ok",
     "timestamp": 1731571151982,
     "user": {
      "displayName": "THỊNH VƯƠNG BÁ",
      "userId": "07238309429272368208"
     },
     "user_tz": -420
    },
    "id": "CeQaV8N78tx3"
   },
   "outputs": [
    {
     "name": "stdout",
     "output_type": "stream",
     "text": [
      "pygame 2.6.1 (SDL 2.28.4, Python 3.12.1)\n",
      "Hello from the pygame community. https://www.pygame.org/contribute.html\n"
     ]
    }
   ],
   "source": [
    "import cv2\n",
    "from google.colab.patches import cv2_imshow\n",
    "from google.colab import output\n",
    "import pygame, sys, os\n",
    "from pygame.locals import K_TAB, QUIT, K_RIGHT\n",
    "import time\n",
    "from state import State, State_2\n",
    "from importlib import import_module"
   ]
  },
  {
   "cell_type": "code",
   "execution_count": 14,
   "metadata": {
    "executionInfo": {
     "elapsed": 11,
     "status": "ok",
     "timestamp": 1731571151982,
     "user": {
      "displayName": "THỊNH VƯƠNG BÁ",
      "userId": "07238309429272368208"
     },
     "user_tz": -420
    },
    "id": "NYLt0ruriMZb"
   },
   "outputs": [],
   "source": [
    "# set SDL to use the dummy NULL video driver,\n",
    "#   so it doesn't need a windowing system.\n",
    "os.environ[\"SDL_VIDEODRIVER\"] = \"dummy\""
   ]
  },
  {
   "cell_type": "code",
   "execution_count": 16,
   "metadata": {
    "executionInfo": {
     "elapsed": 11,
     "status": "ok",
     "timestamp": 1731571151982,
     "user": {
      "displayName": "THỊNH VƯƠNG BÁ",
      "userId": "07238309429272368208"
     },
     "user_tz": -420
    },
    "id": "CO3N-ClwiWMq"
   },
   "outputs": [],
   "source": [
    "def draw(state):\n",
    "    screen.fill('white')\n",
    "\n",
    "    for x in range(3):\n",
    "        for y in range(3):\n",
    "            pygame.draw.rect(screen, color[\"white\"], (x*200, y*200, 200, 200))\n",
    "\n",
    "    if state.previous_move != None:\n",
    "        next_block = state.previous_move.x * 3 + state.previous_move.y\n",
    "        pygame.draw.rect(screen, color['blue'],\n",
    "              ((next_block%3)*200, (next_block//3)*200, 200, 200))\n",
    "\n",
    "        i = state.previous_move.index_local_board\n",
    "        pygame.draw.rect(screen, color['orange'],(\n",
    "                         (i%3)*200 + state.previous_move.y*50 + 25,\n",
    "                         (i//3)*200 + state.previous_move.x*50 + 25,\n",
    "                         50,50))\n",
    "\n",
    "    for k in range(9):\n",
    "        value = state.global_cells[k]\n",
    "        if value != 0:\n",
    "            picture = large_image[value]\n",
    "            picture = pygame.transform.scale(picture, (100, 100))\n",
    "            screen.blit(picture,((k%3)*200 + 50,(k//3)*200 + 50))\n",
    "\n",
    "    for x in range(3):\n",
    "        for y in range(3):\n",
    "            for i in [1,2]:\n",
    "                pygame.draw.line(screen, color[\"black\"],\n",
    "                                 (x*200 + i*50 + 25, y*200 + 25),\n",
    "                                 (x*200 + i*50 + 25, y*200 + 175), 2)\n",
    "                pygame.draw.line(screen, color[\"black\"],\n",
    "                                 (x*200 + 25, y*200 + i*50 + 25),\n",
    "                                 (x*200 + 175, y*200 + i*50 + 25), 2)\n",
    "\n",
    "    for i in range(9):\n",
    "        local_board = state.blocks[i]\n",
    "        for x in range(3):\n",
    "            for y in range(3):\n",
    "                value = local_board[x, y]\n",
    "                if value != 0:\n",
    "                    screen.blit(small_image[value],\n",
    "                                ((i%3)*200 + y*50 + 35,\n",
    "                                (i//3)*200 + x*50 + 35))\n",
    "\n",
    "    for i in [1, 2]:\n",
    "        pygame.draw.line(screen, color[\"black\"], (i*200, 0), (i*200, 600), 3)\n",
    "        pygame.draw.line(screen, color[\"black\"], (0, i*200), (600, i*200), 3)\n",
    "\n",
    "    pygame.display.flip()\n",
    "    view = pygame.surfarray.array3d(screen)\n",
    "\n",
    "    # convert from (width, height, channel) to (height, width, channel)\n",
    "    view = view.transpose([1, 0, 2])\n",
    "\n",
    "    # convert from rgb to bgr\n",
    "    img_bgr = cv2.cvtColor(view, cv2.COLOR_RGB2BGR)\n",
    "\n",
    "    # clear cell\n",
    "    #output.clear()\n",
    "\n",
    "    # display image\n",
    "    cv2_imshow(img_bgr)\n"
   ]
  },
  {
   "cell_type": "code",
   "execution_count": 17,
   "metadata": {
    "executionInfo": {
     "elapsed": 10,
     "status": "ok",
     "timestamp": 1731571151982,
     "user": {
      "displayName": "THỊNH VƯƠNG BÁ",
      "userId": "07238309429272368208"
     },
     "user_tz": -420
    },
    "id": "FR8meqIsBV1J"
   },
   "outputs": [],
   "source": [
    "color = {\"black\": pygame.Color(0, 0, 0),\n",
    "         \"white\": pygame.Color(255, 255, 255),\n",
    "         'blue': pygame.Color(50, 255, 255),\n",
    "         'orange': pygame.Color(255, 120, 0)\n",
    "        }\n",
    "small_image = {1: pygame.image.load('images/small_x.png'),\n",
    "               -1: pygame.image.load('images/small_o.png')}\n",
    "large_image = {1: pygame.image.load('images/large_x.png'),\n",
    "               -1: pygame.image.load('images/large_o.png')}\n",
    "\n",
    "pygame.init()\n",
    "\n",
    "screen = pygame.display.set_mode((600, 600))\n",
    "pygame.display.set_caption('Ultimate Tic-Tac-Toe')\n",
    "\n",
    "\n",
    "def play(player_X, player_O, play_auto = True, delay_to_draw = 0, rule = 2):\n",
    "    player_1 = import_module(player_X)\n",
    "    player_2 = import_module(player_O)\n",
    "    if rule == 1:\n",
    "        state = State()\n",
    "    else:\n",
    "        state = State_2()\n",
    "    turn = 0\n",
    "    remain_time_X = 120\n",
    "    remain_time_O = 120\n",
    "    is_game_done = False\n",
    "\n",
    "    while True:\n",
    "        print(\n",
    "'''\n",
    "=======================================\n",
    "|                                     |\n",
    "|                                     |\n",
    "\n",
    "               ''' + \"Turn: \" + str(turn)+ '''\n",
    "\n",
    "|                                     |\n",
    "|                                     |\n",
    "=======================================\n",
    "'''\n",
    "    )\n",
    "        draw(state)\n",
    "\n",
    "        if state.game_over:\n",
    "            break\n",
    "\n",
    "        valid_moves = state.get_valid_moves\n",
    "        if rule == 1:\n",
    "            temp_state = State(state)\n",
    "        else:\n",
    "            temp_state = State_2(state)\n",
    "        start_t = time.time()\n",
    "        if state.player_to_move == 1:\n",
    "            new_move = player_1.select_move(temp_state, remain_time_X)\n",
    "            elapsed_time = time.time() - start_t\n",
    "            remain_time_X -= elapsed_time\n",
    "        else:\n",
    "            new_move = player_2.select_move(temp_state, remain_time_O)\n",
    "            elapsed_time = time.time() - start_t\n",
    "            remain_time_O -= elapsed_time\n",
    "\n",
    "        if elapsed_time > 10 or not new_move or \\\n",
    "                (remain_time_O < -0.1) or (remain_time_X < -0.1):\n",
    "            break\n",
    "\n",
    "        flag = False\n",
    "        for item in valid_moves:\n",
    "            if new_move.index_local_board == item.index_local_board and \\\n",
    "               new_move.x == item.x and new_move.y == item.y and \\\n",
    "               new_move.value == item.value:\n",
    "                flag = True\n",
    "                break\n",
    "        if not flag:\n",
    "            break\n",
    "\n",
    "        if elapsed_time < delay_to_draw:\n",
    "            # delay drawing\n",
    "            time.sleep(delay_to_draw)\n",
    "\n",
    "        state.act_move(new_move)\n",
    "        if not play_auto:\n",
    "            print('press enter to continue')\n",
    "            input()\n",
    "\n",
    "        turn += 1"
   ]
  },
  {
   "cell_type": "code",
   "execution_count": 18,
   "metadata": {
    "colab": {
     "base_uri": "https://localhost:8080/",
     "height": 1000
    },
    "executionInfo": {
     "elapsed": 107735,
     "status": "ok",
     "timestamp": 1731571259708,
     "user": {
      "displayName": "THỊNH VƯƠNG BÁ",
      "userId": "07238309429272368208"
     },
     "user_tz": -420
    },
    "id": "cDAeZdNti5U5",
    "outputId": "b247ca99-619a-48a1-f903-191a8b77f72d"
   },
   "outputs": [
    {
     "name": "stdout",
     "output_type": "stream",
     "text": [
      "\n",
      "=======================================\n",
      "|                                     |\n",
      "|                                     |\n",
      "\n",
      "               Turn: 0\n",
      "\n",
      "|                                     |\n",
      "|                                     |\n",
      "=======================================\n",
      "\n"
     ]
    },
    {
     "ename": "NameError",
     "evalue": "name 'cv2_imshow' is not defined",
     "output_type": "error",
     "traceback": [
      "\u001b[1;31m---------------------------------------------------------------------------\u001b[0m",
      "\u001b[1;31mNameError\u001b[0m                                 Traceback (most recent call last)",
      "Cell \u001b[1;32mIn[18], line 1\u001b[0m\n\u001b[1;32m----> 1\u001b[0m \u001b[43mplay\u001b[49m\u001b[43m(\u001b[49m\u001b[38;5;124;43m'\u001b[39;49m\u001b[38;5;124;43mrandom_agent\u001b[39;49m\u001b[38;5;124;43m'\u001b[39;49m\u001b[43m,\u001b[49m\u001b[43m \u001b[49m\u001b[38;5;124;43m'\u001b[39;49m\u001b[38;5;124;43m_MSSV\u001b[39;49m\u001b[38;5;124;43m'\u001b[39;49m\u001b[43m,\u001b[49m\u001b[43m \u001b[49m\u001b[38;5;241;43m0.2\u001b[39;49m\u001b[43m,\u001b[49m\u001b[43m \u001b[49m\u001b[38;5;241;43m2\u001b[39;49m\u001b[43m)\u001b[49m\n",
      "Cell \u001b[1;32mIn[17], line 43\u001b[0m, in \u001b[0;36mplay\u001b[1;34m(player_X, player_O, play_auto, delay_to_draw, rule)\u001b[0m\n\u001b[0;32m     29\u001b[0m     \u001b[38;5;28;01mwhile\u001b[39;00m \u001b[38;5;28;01mTrue\u001b[39;00m:\n\u001b[0;32m     30\u001b[0m         \u001b[38;5;28mprint\u001b[39m(\n\u001b[0;32m     31\u001b[0m \u001b[38;5;124;03m'''\u001b[39;00m\n\u001b[0;32m     32\u001b[0m \u001b[38;5;124;03m=======================================\u001b[39;00m\n\u001b[1;32m   (...)\u001b[0m\n\u001b[0;32m     41\u001b[0m \u001b[38;5;124m'''\u001b[39m\n\u001b[0;32m     42\u001b[0m     )\n\u001b[1;32m---> 43\u001b[0m         \u001b[43mdraw\u001b[49m\u001b[43m(\u001b[49m\u001b[43mstate\u001b[49m\u001b[43m)\u001b[49m\n\u001b[0;32m     45\u001b[0m         \u001b[38;5;28;01mif\u001b[39;00m state\u001b[38;5;241m.\u001b[39mgame_over:\n\u001b[0;32m     46\u001b[0m             \u001b[38;5;28;01mbreak\u001b[39;00m\n",
      "Cell \u001b[1;32mIn[16], line 63\u001b[0m, in \u001b[0;36mdraw\u001b[1;34m(state)\u001b[0m\n\u001b[0;32m     57\u001b[0m img_bgr \u001b[38;5;241m=\u001b[39m cv2\u001b[38;5;241m.\u001b[39mcvtColor(view, cv2\u001b[38;5;241m.\u001b[39mCOLOR_RGB2BGR)\n\u001b[0;32m     59\u001b[0m \u001b[38;5;66;03m# clear cell\u001b[39;00m\n\u001b[0;32m     60\u001b[0m \u001b[38;5;66;03m#output.clear()\u001b[39;00m\n\u001b[0;32m     61\u001b[0m \n\u001b[0;32m     62\u001b[0m \u001b[38;5;66;03m# display image\u001b[39;00m\n\u001b[1;32m---> 63\u001b[0m \u001b[43mcv2_imshow\u001b[49m(img_bgr)\n",
      "\u001b[1;31mNameError\u001b[0m: name 'cv2_imshow' is not defined"
     ]
    }
   ],
   "source": [
    "play('random_agent', '_MSSV', 0.2, 2)"
   ]
  }
 ],
 "metadata": {
  "colab": {
   "provenance": []
  },
  "kernelspec": {
   "display_name": "Python 3",
   "name": "python3"
  },
  "language_info": {
   "codemirror_mode": {
    "name": "ipython",
    "version": 3
   },
   "file_extension": ".py",
   "mimetype": "text/x-python",
   "name": "python",
   "nbconvert_exporter": "python",
   "pygments_lexer": "ipython3",
   "version": "3.12.1"
  }
 },
 "nbformat": 4,
 "nbformat_minor": 0
}
